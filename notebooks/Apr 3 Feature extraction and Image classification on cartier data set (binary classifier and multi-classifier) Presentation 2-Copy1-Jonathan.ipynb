{
 "cells": [
  {
   "cell_type": "markdown",
   "metadata": {},
   "source": [
    "<h2>Classification of jewelry images </h2>\n",
    "\n",
    "Due to the lack of large training data set and expensive training for deep networks, \n",
    "instead of training a convolution network from scratch, we use the pre-trained network weights as inputs. The features are extracted from an intermediate layer with VGG19 model. We then build various classifiers on those features. This is often called transfer learning."
   ]
  },
  {
   "cell_type": "markdown",
   "metadata": {},
   "source": [
    "### Get images (Cartier)"
   ]
  },
  {
   "cell_type": "code",
   "execution_count": 8,
   "metadata": {},
   "outputs": [
    {
     "name": "stdout",
     "output_type": "stream",
     "text": [
      "(477, 7)\n"
     ]
    },
    {
     "data": {
      "text/html": [
       "<div>\n",
       "<style scoped>\n",
       "    .dataframe tbody tr th:only-of-type {\n",
       "        vertical-align: middle;\n",
       "    }\n",
       "\n",
       "    .dataframe tbody tr th {\n",
       "        vertical-align: top;\n",
       "    }\n",
       "\n",
       "    .dataframe thead th {\n",
       "        text-align: right;\n",
       "    }\n",
       "</style>\n",
       "<table border=\"1\" class=\"dataframe\">\n",
       "  <thead>\n",
       "    <tr style=\"text-align: right;\">\n",
       "      <th></th>\n",
       "      <th>Unnamed: 0</th>\n",
       "      <th>Category</th>\n",
       "      <th>Collections</th>\n",
       "      <th>Image</th>\n",
       "      <th>Metal</th>\n",
       "      <th>Price</th>\n",
       "      <th>Stone shape</th>\n",
       "    </tr>\n",
       "  </thead>\n",
       "  <tbody>\n",
       "    <tr>\n",
       "      <th>0</th>\n",
       "      <td>0</td>\n",
       "      <td>Bracelets</td>\n",
       "      <td>Juste un clou</td>\n",
       "      <td>http://www.cartier.com/content/dam/rcq/car/58/...</td>\n",
       "      <td>Pink Gold</td>\n",
       "      <td>6800</td>\n",
       "      <td>NaN</td>\n",
       "    </tr>\n",
       "    <tr>\n",
       "      <th>1</th>\n",
       "      <td>1</td>\n",
       "      <td>Bracelets</td>\n",
       "      <td>Juste un clou</td>\n",
       "      <td>http://www.cartier.com/content/dam/rcq/car/59/...</td>\n",
       "      <td>Yellow Gold</td>\n",
       "      <td>6800</td>\n",
       "      <td>NaN</td>\n",
       "    </tr>\n",
       "    <tr>\n",
       "      <th>2</th>\n",
       "      <td>2</td>\n",
       "      <td>Bracelets</td>\n",
       "      <td>Juste un clou</td>\n",
       "      <td>http://www.cartier.com/content/dam/rcq/car/13/...</td>\n",
       "      <td>White Gold</td>\n",
       "      <td>7300</td>\n",
       "      <td>NaN</td>\n",
       "    </tr>\n",
       "  </tbody>\n",
       "</table>\n",
       "</div>"
      ],
      "text/plain": [
       "   Unnamed: 0   Category    Collections  \\\n",
       "0           0  Bracelets  Juste un clou   \n",
       "1           1  Bracelets  Juste un clou   \n",
       "2           2  Bracelets  Juste un clou   \n",
       "\n",
       "                                               Image        Metal  Price  \\\n",
       "0  http://www.cartier.com/content/dam/rcq/car/58/...    Pink Gold   6800   \n",
       "1  http://www.cartier.com/content/dam/rcq/car/59/...  Yellow Gold   6800   \n",
       "2  http://www.cartier.com/content/dam/rcq/car/13/...   White Gold   7300   \n",
       "\n",
       "  Stone shape  \n",
       "0         NaN  \n",
       "1         NaN  \n",
       "2         NaN  "
      ]
     },
     "execution_count": 8,
     "metadata": {},
     "output_type": "execute_result"
    }
   ],
   "source": [
    "\"\"\"\n",
    "Scrape the data from the Cartier web pages.\n",
    "Including product category, collections, price, stone shape and image address.\n",
    "\"\"\"\n",
    "import urllib.request\n",
    "import pandas as pd\n",
    "import numpy as np\n",
    "data = pd.read_csv('/data/notebooks/visualrecommender/cartier_images_500.csv')\n",
    "print(data.shape)\n",
    "data[0:3]"
   ]
  },
  {
   "cell_type": "code",
   "execution_count": 9,
   "metadata": {},
   "outputs": [
    {
     "data": {
      "text/html": [
       "<div>\n",
       "<style scoped>\n",
       "    .dataframe tbody tr th:only-of-type {\n",
       "        vertical-align: middle;\n",
       "    }\n",
       "\n",
       "    .dataframe tbody tr th {\n",
       "        vertical-align: top;\n",
       "    }\n",
       "\n",
       "    .dataframe thead th {\n",
       "        text-align: right;\n",
       "    }\n",
       "</style>\n",
       "<table border=\"1\" class=\"dataframe\">\n",
       "  <thead>\n",
       "    <tr style=\"text-align: right;\">\n",
       "      <th></th>\n",
       "      <th>Unnamed: 0</th>\n",
       "      <th>Collections</th>\n",
       "      <th>Image</th>\n",
       "      <th>Metal</th>\n",
       "      <th>Price</th>\n",
       "      <th>Stone shape</th>\n",
       "    </tr>\n",
       "    <tr>\n",
       "      <th>Category</th>\n",
       "      <th></th>\n",
       "      <th></th>\n",
       "      <th></th>\n",
       "      <th></th>\n",
       "      <th></th>\n",
       "      <th></th>\n",
       "    </tr>\n",
       "  </thead>\n",
       "  <tbody>\n",
       "    <tr>\n",
       "      <th>Bracelets</th>\n",
       "      <td>140</td>\n",
       "      <td>140</td>\n",
       "      <td>140</td>\n",
       "      <td>139</td>\n",
       "      <td>140</td>\n",
       "      <td>65</td>\n",
       "    </tr>\n",
       "    <tr>\n",
       "      <th>Earrings</th>\n",
       "      <td>73</td>\n",
       "      <td>73</td>\n",
       "      <td>73</td>\n",
       "      <td>73</td>\n",
       "      <td>73</td>\n",
       "      <td>34</td>\n",
       "    </tr>\n",
       "    <tr>\n",
       "      <th>Necklaces</th>\n",
       "      <td>139</td>\n",
       "      <td>139</td>\n",
       "      <td>139</td>\n",
       "      <td>138</td>\n",
       "      <td>139</td>\n",
       "      <td>77</td>\n",
       "    </tr>\n",
       "    <tr>\n",
       "      <th>Rings</th>\n",
       "      <td>120</td>\n",
       "      <td>120</td>\n",
       "      <td>120</td>\n",
       "      <td>120</td>\n",
       "      <td>120</td>\n",
       "      <td>3</td>\n",
       "    </tr>\n",
       "  </tbody>\n",
       "</table>\n",
       "</div>"
      ],
      "text/plain": [
       "           Unnamed: 0  Collections  Image  Metal  Price  Stone shape\n",
       "Category                                                            \n",
       "Bracelets         140          140    140    139    140           65\n",
       "Earrings           73           73     73     73     73           34\n",
       "Necklaces         139          139    139    138    139           77\n",
       "Rings             120          120    120    120    120            3"
      ]
     },
     "execution_count": 9,
     "metadata": {},
     "output_type": "execute_result"
    }
   ],
   "source": [
    "data.groupby(\"Category\").agg(\"count\")"
   ]
  },
  {
   "cell_type": "code",
   "execution_count": 10,
   "metadata": {},
   "outputs": [
    {
     "data": {
      "text/html": [
       "<div>\n",
       "<style scoped>\n",
       "    .dataframe tbody tr th:only-of-type {\n",
       "        vertical-align: middle;\n",
       "    }\n",
       "\n",
       "    .dataframe tbody tr th {\n",
       "        vertical-align: top;\n",
       "    }\n",
       "\n",
       "    .dataframe thead th {\n",
       "        text-align: right;\n",
       "    }\n",
       "</style>\n",
       "<table border=\"1\" class=\"dataframe\">\n",
       "  <thead>\n",
       "    <tr style=\"text-align: right;\">\n",
       "      <th></th>\n",
       "      <th></th>\n",
       "      <th>Unnamed: 0</th>\n",
       "      <th>Collections</th>\n",
       "      <th>Image</th>\n",
       "      <th>Price</th>\n",
       "      <th>Stone shape</th>\n",
       "    </tr>\n",
       "    <tr>\n",
       "      <th>Category</th>\n",
       "      <th>Metal</th>\n",
       "      <th></th>\n",
       "      <th></th>\n",
       "      <th></th>\n",
       "      <th></th>\n",
       "      <th></th>\n",
       "    </tr>\n",
       "  </thead>\n",
       "  <tbody>\n",
       "    <tr>\n",
       "      <th rowspan=\"5\" valign=\"top\">Bracelets</th>\n",
       "      <th>Pink Gold</th>\n",
       "      <td>46</td>\n",
       "      <td>46</td>\n",
       "      <td>46</td>\n",
       "      <td>46</td>\n",
       "      <td>27</td>\n",
       "    </tr>\n",
       "    <tr>\n",
       "      <th>Platinum</th>\n",
       "      <td>5</td>\n",
       "      <td>5</td>\n",
       "      <td>5</td>\n",
       "      <td>5</td>\n",
       "      <td>0</td>\n",
       "    </tr>\n",
       "    <tr>\n",
       "      <th>White Gold</th>\n",
       "      <td>41</td>\n",
       "      <td>41</td>\n",
       "      <td>41</td>\n",
       "      <td>41</td>\n",
       "      <td>20</td>\n",
       "    </tr>\n",
       "    <tr>\n",
       "      <th>Yellow Gold</th>\n",
       "      <td>38</td>\n",
       "      <td>38</td>\n",
       "      <td>38</td>\n",
       "      <td>38</td>\n",
       "      <td>16</td>\n",
       "    </tr>\n",
       "    <tr>\n",
       "      <th>three-gold</th>\n",
       "      <td>9</td>\n",
       "      <td>9</td>\n",
       "      <td>9</td>\n",
       "      <td>9</td>\n",
       "      <td>2</td>\n",
       "    </tr>\n",
       "    <tr>\n",
       "      <th rowspan=\"5\" valign=\"top\">Earrings</th>\n",
       "      <th>Pink Gold</th>\n",
       "      <td>22</td>\n",
       "      <td>22</td>\n",
       "      <td>22</td>\n",
       "      <td>22</td>\n",
       "      <td>13</td>\n",
       "    </tr>\n",
       "    <tr>\n",
       "      <th>Platinum</th>\n",
       "      <td>8</td>\n",
       "      <td>8</td>\n",
       "      <td>8</td>\n",
       "      <td>8</td>\n",
       "      <td>1</td>\n",
       "    </tr>\n",
       "    <tr>\n",
       "      <th>White Gold</th>\n",
       "      <td>19</td>\n",
       "      <td>19</td>\n",
       "      <td>19</td>\n",
       "      <td>19</td>\n",
       "      <td>7</td>\n",
       "    </tr>\n",
       "    <tr>\n",
       "      <th>Yellow Gold</th>\n",
       "      <td>15</td>\n",
       "      <td>15</td>\n",
       "      <td>15</td>\n",
       "      <td>15</td>\n",
       "      <td>7</td>\n",
       "    </tr>\n",
       "    <tr>\n",
       "      <th>three-gold</th>\n",
       "      <td>9</td>\n",
       "      <td>9</td>\n",
       "      <td>9</td>\n",
       "      <td>9</td>\n",
       "      <td>6</td>\n",
       "    </tr>\n",
       "    <tr>\n",
       "      <th rowspan=\"5\" valign=\"top\">Necklaces</th>\n",
       "      <th>Pink Gold</th>\n",
       "      <td>42</td>\n",
       "      <td>42</td>\n",
       "      <td>42</td>\n",
       "      <td>42</td>\n",
       "      <td>28</td>\n",
       "    </tr>\n",
       "    <tr>\n",
       "      <th>Platinum</th>\n",
       "      <td>10</td>\n",
       "      <td>10</td>\n",
       "      <td>10</td>\n",
       "      <td>10</td>\n",
       "      <td>0</td>\n",
       "    </tr>\n",
       "    <tr>\n",
       "      <th>White Gold</th>\n",
       "      <td>39</td>\n",
       "      <td>39</td>\n",
       "      <td>39</td>\n",
       "      <td>39</td>\n",
       "      <td>20</td>\n",
       "    </tr>\n",
       "    <tr>\n",
       "      <th>Yellow Gold</th>\n",
       "      <td>30</td>\n",
       "      <td>30</td>\n",
       "      <td>30</td>\n",
       "      <td>30</td>\n",
       "      <td>18</td>\n",
       "    </tr>\n",
       "    <tr>\n",
       "      <th>three-gold</th>\n",
       "      <td>17</td>\n",
       "      <td>17</td>\n",
       "      <td>17</td>\n",
       "      <td>17</td>\n",
       "      <td>10</td>\n",
       "    </tr>\n",
       "    <tr>\n",
       "      <th rowspan=\"5\" valign=\"top\">Rings</th>\n",
       "      <th>Pink Gold</th>\n",
       "      <td>42</td>\n",
       "      <td>42</td>\n",
       "      <td>42</td>\n",
       "      <td>42</td>\n",
       "      <td>2</td>\n",
       "    </tr>\n",
       "    <tr>\n",
       "      <th>Platinum</th>\n",
       "      <td>6</td>\n",
       "      <td>6</td>\n",
       "      <td>6</td>\n",
       "      <td>6</td>\n",
       "      <td>0</td>\n",
       "    </tr>\n",
       "    <tr>\n",
       "      <th>White Gold</th>\n",
       "      <td>37</td>\n",
       "      <td>37</td>\n",
       "      <td>37</td>\n",
       "      <td>37</td>\n",
       "      <td>1</td>\n",
       "    </tr>\n",
       "    <tr>\n",
       "      <th>Yellow Gold</th>\n",
       "      <td>24</td>\n",
       "      <td>24</td>\n",
       "      <td>24</td>\n",
       "      <td>24</td>\n",
       "      <td>0</td>\n",
       "    </tr>\n",
       "    <tr>\n",
       "      <th>three-gold</th>\n",
       "      <td>11</td>\n",
       "      <td>11</td>\n",
       "      <td>11</td>\n",
       "      <td>11</td>\n",
       "      <td>0</td>\n",
       "    </tr>\n",
       "  </tbody>\n",
       "</table>\n",
       "</div>"
      ],
      "text/plain": [
       "                       Unnamed: 0  Collections  Image  Price  Stone shape\n",
       "Category  Metal                                                          \n",
       "Bracelets Pink Gold            46           46     46     46           27\n",
       "          Platinum              5            5      5      5            0\n",
       "          White Gold           41           41     41     41           20\n",
       "          Yellow Gold          38           38     38     38           16\n",
       "          three-gold            9            9      9      9            2\n",
       "Earrings  Pink Gold            22           22     22     22           13\n",
       "          Platinum              8            8      8      8            1\n",
       "          White Gold           19           19     19     19            7\n",
       "          Yellow Gold          15           15     15     15            7\n",
       "          three-gold            9            9      9      9            6\n",
       "Necklaces Pink Gold            42           42     42     42           28\n",
       "          Platinum             10           10     10     10            0\n",
       "          White Gold           39           39     39     39           20\n",
       "          Yellow Gold          30           30     30     30           18\n",
       "          three-gold           17           17     17     17           10\n",
       "Rings     Pink Gold            42           42     42     42            2\n",
       "          Platinum              6            6      6      6            0\n",
       "          White Gold           37           37     37     37            1\n",
       "          Yellow Gold          24           24     24     24            0\n",
       "          three-gold           11           11     11     11            0"
      ]
     },
     "execution_count": 10,
     "metadata": {},
     "output_type": "execute_result"
    }
   ],
   "source": [
    "data.groupby([\"Category\",\"Metal\"]).agg(\"count\")"
   ]
  },
  {
   "cell_type": "code",
   "execution_count": 11,
   "metadata": {},
   "outputs": [
    {
     "name": "stdout",
     "output_type": "stream",
     "text": [
      "The list of categories: \n",
      " dict_keys([nan, 'Rings', 'Earrings', 'Bracelets', 'Necklaces'])\n",
      "5\n",
      "120\n",
      "73\n",
      "140\n",
      "139\n"
     ]
    }
   ],
   "source": [
    "\"\"\"\n",
    "Calculate the number of products in each category \n",
    "\"\"\"\n",
    "Category_images = {} \n",
    "for i in range(477):\n",
    "    item = data.loc[i]\n",
    "    category  = item[1]\n",
    "    image = item[3]\n",
    "    if category in Category_images:\n",
    "        Category_images[category].append(image)\n",
    "    else:\n",
    "        Category_images[category] = [image]\n",
    "print(\"The list of categories: \\n\",Category_images.keys())\n",
    "for key in Category_images.keys():\n",
    "    print(len(Category_images[key]))\n",
    "    \n",
    "#the catier images contain 4 different categories including bracelets, rings, earrings, necklaces.\n",
    "category = ['Bracelets', 'Rings', 'Earrings', 'Necklaces']"
   ]
  },
  {
   "cell_type": "markdown",
   "metadata": {},
   "source": [
    "# <font color=\"red\">I. Feature extraction\n",
    "<h3>In this part, we extract the features from an intermediate layer in the VGG19 model</h3>"
   ]
  },
  {
   "cell_type": "markdown",
   "metadata": {},
   "source": [
    "### 1. Loading and pre-processing an image"
   ]
  },
  {
   "cell_type": "code",
   "execution_count": 12,
   "metadata": {},
   "outputs": [
    {
     "name": "stderr",
     "output_type": "stream",
     "text": [
      "/usr/local/lib/python3.5/dist-packages/h5py/__init__.py:36: FutureWarning: Conversion of the second argument of issubdtype from `float` to `np.floating` is deprecated. In future, it will be treated as `np.float64 == np.dtype(float).type`.\n",
      "  from ._conv import register_converters as _register_converters\n",
      "Using TensorFlow backend.\n"
     ]
    },
    {
     "name": "stdout",
     "output_type": "stream",
     "text": [
      "PIL image size (224, 224)\n"
     ]
    },
    {
     "data": {
      "image/png": "[encoded data removed]",
      "text/plain": [
       "<Figure size 432x288 with 1 Axes>"
      ]
     },
     "metadata": {},
     "output_type": "display_data"
    },
    {
     "data": {
      "image/png": "[encoded data removed]",
      "text/plain": [
       "<Figure size 432x288 with 1 Axes>"
      ]
     },
     "metadata": {},
     "output_type": "display_data"
    },
    {
     "name": "stdout",
     "output_type": "stream",
     "text": [
      "numpy array size (224, 224, 3)\n",
      "image batch size (1, 224, 224, 3)\n"
     ]
    },
    {
     "data": {
      "text/plain": [
       "<matplotlib.image.AxesImage at 0x7f473cdf2390>"
      ]
     },
     "execution_count": 12,
     "metadata": {},
     "output_type": "execute_result"
    },
    {
     "data": {
      "image/png": "[encoded data removed]",
      "text/plain": [
       "<Figure size 432x288 with 1 Axes>"
      ]
     },
     "metadata": {},
     "output_type": "display_data"
    }
   ],
   "source": [
    "from keras.preprocessing.image import load_img\n",
    "from keras.preprocessing.image import img_to_array\n",
    "from keras.applications.imagenet_utils import decode_predictions\n",
    "import matplotlib.pyplot as plt\n",
    "%matplotlib inline\n",
    "\n",
    "directory1 = '/data/notebooks/visualrecommender/Images/Images_Cartier/'\n",
    "directory3 = '.jpg'\n",
    "        \n",
    "key = 'Bracelets'\n",
    "directory2 = key+str('/')\n",
    "index = 0\n",
    "img_path = directory1+directory2+str(index)+directory3\n",
    "\n",
    "filename = img_path\n",
    "# load an image in PIL format\n",
    "original = load_img(filename, target_size=(224, 224))\n",
    "print('PIL image size',original.size)\n",
    "plt.imshow(original)\n",
    "plt.show()\n",
    " \n",
    "# convert the PIL image to a numpy array\n",
    "# IN PIL - image is in (width, height, channel)\n",
    "# In Numpy - image is in (height, width, channel)\n",
    "numpy_image = img_to_array(original)\n",
    "plt.imshow(np.uint8(numpy_image))\n",
    "plt.show()\n",
    "print('numpy array size',numpy_image.shape)\n",
    " \n",
    "# Convert the image / images into batch format\n",
    "# expand_dims will add an extra dimension to the data at a particular axis\n",
    "# We want the input matrix to the network to be of the form (batchsize, height, width, channels)\n",
    "# Thus we add the extra dimension to the axis 0.\n",
    "image_batch = np.expand_dims(numpy_image, axis=0)\n",
    "print('image batch size', image_batch.shape)\n",
    "plt.imshow(np.uint8(image_batch[0]))"
   ]
  },
  {
   "cell_type": "code",
   "execution_count": 13,
   "metadata": {},
   "outputs": [],
   "source": [
    "#the input data for Keras requires 4 dimensional tensor \n",
    "def img_preprocess(img_path):\n",
    "    \"\"\"\n",
    "    Function to process the raw image.\n",
    "    Given an image path, return a processed image x,\n",
    "    which can be used to train the VGG model.\n",
    "    Output a 4-D tensor (1,224,224,3)\n",
    "    width is 224, height is 224, 3 channels \n",
    "    \"\"\"\n",
    "    img = image.load_img(img_path, target_size=(224, 224))\n",
    "    x = image.img_to_array(img)\n",
    "    x = np.expand_dims(x, axis=0)\n",
    "    x = preprocess_input(x)\n",
    "    return x   "
   ]
  },
  {
   "cell_type": "code",
   "execution_count": 14,
   "metadata": {},
   "outputs": [],
   "source": [
    "from keras.applications.vgg19 import VGG19\n",
    "from keras.preprocessing import image\n",
    "from keras.applications.vgg19 import preprocess_input\n",
    "from keras.models import Model\n",
    "import numpy as np"
   ]
  },
  {
   "cell_type": "markdown",
   "metadata": {},
   "source": [
    "### 2. Load the VGG19 model"
   ]
  },
  {
   "cell_type": "code",
   "execution_count": 15,
   "metadata": {},
   "outputs": [
    {
     "name": "stdout",
     "output_type": "stream",
     "text": [
      "The summary of the VGG19 network layers:\n",
      "_________________________________________________________________\n",
      "Layer (type)                 Output Shape              Param #   \n",
      "=================================================================\n",
      "input_1 (InputLayer)         (None, 224, 224, 3)       0         \n",
      "_________________________________________________________________\n",
      "block1_conv1 (Conv2D)        (None, 224, 224, 64)      1792      \n",
      "_________________________________________________________________\n",
      "block1_conv2 (Conv2D)        (None, 224, 224, 64)      36928     \n",
      "_________________________________________________________________\n",
      "block1_pool (MaxPooling2D)   (None, 112, 112, 64)      0         \n",
      "_________________________________________________________________\n",
      "block2_conv1 (Conv2D)        (None, 112, 112, 128)     73856     \n",
      "_________________________________________________________________\n",
      "block2_conv2 (Conv2D)        (None, 112, 112, 128)     147584    \n",
      "_________________________________________________________________\n",
      "block2_pool (MaxPooling2D)   (None, 56, 56, 128)       0         \n",
      "_________________________________________________________________\n",
      "block3_conv1 (Conv2D)        (None, 56, 56, 256)       295168    \n",
      "_________________________________________________________________\n",
      "block3_conv2 (Conv2D)        (None, 56, 56, 256)       590080    \n",
      "_________________________________________________________________\n",
      "block3_conv3 (Conv2D)        (None, 56, 56, 256)       590080    \n",
      "_________________________________________________________________\n",
      "block3_conv4 (Conv2D)        (None, 56, 56, 256)       590080    \n",
      "_________________________________________________________________\n",
      "block3_pool (MaxPooling2D)   (None, 28, 28, 256)       0         \n",
      "_________________________________________________________________\n",
      "block4_conv1 (Conv2D)        (None, 28, 28, 512)       1180160   \n",
      "_________________________________________________________________\n",
      "block4_conv2 (Conv2D)        (None, 28, 28, 512)       2359808   \n",
      "_________________________________________________________________\n",
      "block4_conv3 (Conv2D)        (None, 28, 28, 512)       2359808   \n",
      "_________________________________________________________________\n",
      "block4_conv4 (Conv2D)        (None, 28, 28, 512)       2359808   \n",
      "_________________________________________________________________\n",
      "block4_pool (MaxPooling2D)   (None, 14, 14, 512)       0         \n",
      "_________________________________________________________________\n",
      "block5_conv1 (Conv2D)        (None, 14, 14, 512)       2359808   \n",
      "_________________________________________________________________\n",
      "block5_conv2 (Conv2D)        (None, 14, 14, 512)       2359808   \n",
      "_________________________________________________________________\n",
      "block5_conv3 (Conv2D)        (None, 14, 14, 512)       2359808   \n",
      "_________________________________________________________________\n",
      "block5_conv4 (Conv2D)        (None, 14, 14, 512)       2359808   \n",
      "_________________________________________________________________\n",
      "block5_pool (MaxPooling2D)   (None, 7, 7, 512)         0         \n",
      "_________________________________________________________________\n",
      "flatten (Flatten)            (None, 25088)             0         \n",
      "_________________________________________________________________\n",
      "fc1 (Dense)                  (None, 4096)              102764544 \n",
      "_________________________________________________________________\n",
      "fc2 (Dense)                  (None, 4096)              16781312  \n",
      "_________________________________________________________________\n",
      "predictions (Dense)          (None, 1000)              4097000   \n",
      "=================================================================\n",
      "Total params: 143,667,240\n",
      "Trainable params: 143,667,240\n",
      "Non-trainable params: 0\n",
      "_________________________________________________________________\n"
     ]
    }
   ],
   "source": [
    "\"\"\"\n",
    "Arguments of VGG19 model:\n",
    "1. include_top: whether to include the 3 fully-connected\n",
    "            layers on top of the network.\n",
    "2. weights: 'imagenet' (pre-training on ImageNet)\n",
    "\"\"\"\n",
    "\n",
    "model = VGG19(weights='imagenet') #the default argument: include_top = True.\n",
    "print(\"The summary of the VGG19 network layers:\")\n",
    "model.summary()"
   ]
  },
  {
   "cell_type": "code",
   "execution_count": 16,
   "metadata": {},
   "outputs": [
    {
     "name": "stdout",
     "output_type": "stream",
     "text": [
      "The shape of the input image:  (1, 224, 224, 3)\n",
      "Top 3 predicted classes: \n",
      " [('n01930112', 'nematode', 0.26199836), ('n03627232', 'knot', 0.23536704), ('n03532672', 'hook', 0.11476586)]\n"
     ]
    }
   ],
   "source": [
    "\"\"\"\n",
    "Obtain the predictions using VGG19 model\n",
    "Using the weights from the pretrained imagenet.\n",
    "The imagenet data set contains 1000 classes.\n",
    "\"\"\"\n",
    "model = VGG19(weights='imagenet')\n",
    "\n",
    "key = 'Bracelets'\n",
    "directory2 = key+str('/')\n",
    "index = 0\n",
    "img_path = directory1+directory2+str(index)+directory3\n",
    "\n",
    "print(\"The shape of the input image: \",img_preprocess(img_path).shape)\n",
    "preds = model.predict(img_preprocess(img_path))\n",
    "print('Top 3 predicted classes: \\n', decode_predictions(preds, top=3)[0])"
   ]
  },
  {
   "cell_type": "code",
   "execution_count": 8,
   "metadata": {},
   "outputs": [],
   "source": [
    "#base_model: use the weigths from the pre-trained imagenet data set. \n",
    "#the model is VGG19.\n",
    "base_model = VGG19(weights='imagenet') #download weights from pre-trained imagenet data set\n",
    "\n",
    "def Get_layer(layer):\n",
    "    \"\"\"\n",
    "    Return a model with the specified layer\n",
    "    layer: flatten, fc1, fc2 ...\n",
    "    \"\"\"\n",
    "    model = Model(inputs=base_model.input, outputs=base_model.get_layer(layer).output)\n",
    "    return model\n",
    "\n",
    "def Get_feature(img_path,model):\n",
    "    \"\"\"\n",
    "    Return the features of an intermediate layer from the defined model.\n",
    "    In this case, model = Get_layer(...)\n",
    "    \"\"\"\n",
    "    img = image.load_img(img_path, target_size=(224, 224))\n",
    "    x = image.img_to_array(img)\n",
    "    x = np.expand_dims(x, axis=0)\n",
    "    x = preprocess_input(x)\n",
    "    features = model.predict(x)\n",
    "    #print(features.shape)\n",
    "    return features   "
   ]
  },
  {
   "cell_type": "code",
   "execution_count": 9,
   "metadata": {},
   "outputs": [
    {
     "name": "stdout",
     "output_type": "stream",
     "text": [
      "The size of the features from the block1_conv1 layer is (1, 224, 224, 64)\n",
      "The size of the features from the block5_pool layer is (1, 7, 7, 512)\n",
      "The size of the features from the flatten layer is (1, 25088)\n",
      "The size of the features from the fc1 layer is (1, 4096)\n"
     ]
    }
   ],
   "source": [
    "#extract features from different intermediate layers: block5_pool, flatten, fc1\n",
    "#the input data is one bracelet image. \n",
    "key = 'Bracelets'\n",
    "directory2 = key+str('/')\n",
    "index = 0\n",
    "img_path = directory1+directory2+str(index)+directory3\n",
    "\n",
    "layers = ['block1_conv1','block5_pool','flatten','fc1']\n",
    "for layer in layers:\n",
    "    model_feature = Get_layer(layer)\n",
    "    feature = Get_feature(img_path,model_feature)\n",
    "    print(\"The size of the features from the %s layer is %s\"%(layer,feature.shape)) \n",
    "    "
   ]
  },
  {
   "cell_type": "code",
   "execution_count": null,
   "metadata": {},
   "outputs": [],
   "source": []
  },
  {
   "cell_type": "code",
   "execution_count": null,
   "metadata": {},
   "outputs": [],
   "source": []
  },
  {
   "cell_type": "markdown",
   "metadata": {
    "collapsed": true
   },
   "source": [
    "### 3. Extract the features from the first fully connected layer "
   ]
  },
  {
   "cell_type": "code",
   "execution_count": 10,
   "metadata": {},
   "outputs": [],
   "source": [
    "#specify the first fully connected layer as the output layer \n",
    "model1 = Get_layer('fc1')\n",
    "\n",
    "#get the freatures of the input images and save the data in a dataframe.\n",
    "def Get_featues_df(key):\n",
    "    \"\"\"\n",
    "    key: the specified category (bracelets, earrings, necklaces, rings)\n",
    "    return a dataframe which contains all the features with the given key\n",
    "    \"\"\"\n",
    "    directory2 = key+str('/')\n",
    "    print(len(Category_images[key]))\n",
    "    \n",
    "    data_df_i = pd.DataFrame()\n",
    "    for index in range(len(Category_images[key])):\n",
    "        img_path = directory1+directory2+str(index)+directory3\n",
    "        fc1_feature = Get_feature(img_path,model1)\n",
    "        data_df_i = data_df_i.append(pd.DataFrame(fc1_feature),ignore_index=True)\n",
    "    return data_df_i   "
   ]
  },
  {
   "cell_type": "code",
   "execution_count": 11,
   "metadata": {},
   "outputs": [
    {
     "name": "stdout",
     "output_type": "stream",
     "text": [
      "140\n"
     ]
    }
   ],
   "source": [
    "#data_df_1 contains features of Bracelets\n",
    "key = 'Bracelets'\n",
    "data_df_1 = Get_featues_df(key)"
   ]
  },
  {
   "cell_type": "code",
   "execution_count": 12,
   "metadata": {},
   "outputs": [
    {
     "name": "stdout",
     "output_type": "stream",
     "text": [
      "73\n"
     ]
    }
   ],
   "source": [
    "#data_df_2 contains features of earrings \n",
    "key = 'Earrings'\n",
    "data_df_2 = Get_featues_df(key)"
   ]
  },
  {
   "cell_type": "code",
   "execution_count": 13,
   "metadata": {
    "scrolled": true
   },
   "outputs": [
    {
     "name": "stdout",
     "output_type": "stream",
     "text": [
      "139\n"
     ]
    }
   ],
   "source": [
    "#data_df_3 contains featurs of necklaces \n",
    "key = 'Necklaces'\n",
    "data_df_3 = Get_featues_df(key)"
   ]
  },
  {
   "cell_type": "code",
   "execution_count": 14,
   "metadata": {},
   "outputs": [
    {
     "name": "stdout",
     "output_type": "stream",
     "text": [
      "120\n"
     ]
    }
   ],
   "source": [
    "#data_df_4 contains features of rings \n",
    "key = 'Rings'\n",
    "data_df_4 = Get_featues_df(key)"
   ]
  },
  {
   "cell_type": "markdown",
   "metadata": {},
   "source": [
    "# <font color=\"red\">Logistic Regression Model</font>\n",
    "### Build model on the Cartier data set "
   ]
  },
  {
   "cell_type": "code",
   "execution_count": 15,
   "metadata": {},
   "outputs": [
    {
     "name": "stderr",
     "output_type": "stream",
     "text": [
      "/usr/local/lib/python3.5/dist-packages/sklearn/cross_validation.py:41: DeprecationWarning: This module was deprecated in version 0.18 in favor of the model_selection module into which all the refactored classes and functions are moved. Also note that the interface of the new CV iterators are different from that of this module. This module will be removed in 0.20.\n",
      "  \"This module will be removed in 0.20.\", DeprecationWarning)\n",
      "/usr/local/lib/python3.5/dist-packages/statsmodels/compat/pandas.py:56: FutureWarning: The pandas.core.datetools module is deprecated and will be removed in a future version. Please use the pandas.tseries module instead.\n",
      "  from pandas.core import datetools\n"
     ]
    }
   ],
   "source": [
    "from sklearn.linear_model import LogisticRegression\n",
    "from sklearn.cross_validation import train_test_split\n",
    "from sklearn import metrics\n",
    "import statsmodels.api as sm\n",
    "from sklearn.metrics import classification_report\n",
    "from sklearn.metrics import confusion_matrix"
   ]
  },
  {
   "cell_type": "markdown",
   "metadata": {},
   "source": [
    "### 1. Classify Necklaces (binary, one-vs-rest)\n",
    "Set necklaces as the positive class and the rest as the negative class."
   ]
  },
  {
   "cell_type": "code",
   "execution_count": 16,
   "metadata": {},
   "outputs": [
    {
     "name": "stdout",
     "output_type": "stream",
     "text": [
      "0    333\n",
      "1    139\n",
      "Name: Labels, dtype: int64\n"
     ]
    }
   ],
   "source": [
    "data_all = data_df_3.append(data_df_1,ignore_index=True).append(data_df_2,ignore_index=True).append(data_df_4,ignore_index=True)\n",
    "\n",
    "labels = [1]*len(Category_images['Necklaces'])+[0]*(len(Category_images['Rings'])+len(Category_images['Earrings'])+len(Category_images['Bracelets']))\n",
    "\n",
    "df_labels = pd.DataFrame({'Labels':labels})\n",
    "print(df_labels['Labels'].value_counts())"
   ]
  },
  {
   "cell_type": "code",
   "execution_count": 17,
   "metadata": {},
   "outputs": [
    {
     "name": "stdout",
     "output_type": "stream",
     "text": [
      "(354, 4096) (118, 4096)\n",
      "0.9830508474576272\n",
      "             precision    recall  f1-score   support\n",
      "\n",
      "          0       0.97      1.00      0.99        78\n",
      "          1       1.00      0.95      0.97        40\n",
      "\n",
      "avg / total       0.98      0.98      0.98       118\n",
      "\n",
      "Confusion matrix: \n",
      " [[78  0]\n",
      " [ 2 38]]\n"
     ]
    }
   ],
   "source": [
    "Y = np.ravel(df_labels.Labels)# we need 1D array for the target\n",
    "X = data_all\n",
    "\n",
    "#train and test split: 3/5 as the training set and the rest as the testing set\n",
    "X_train,X_test,Y_train,Y_test=train_test_split(X,Y,test_size=0.25,\n",
    "                                              random_state=3)\n",
    "print(X_train.shape,X_test.shape)\n",
    "\n",
    "log_model2 = LogisticRegression()\n",
    "log_model2.fit(X_train,Y_train)\n",
    "\n",
    "class_predict=log_model2.predict(X_test)\n",
    "print(metrics.accuracy_score(Y_test,class_predict))\n",
    "print(classification_report(Y_test,class_predict))\n",
    "print(\"Confusion matrix: \\n\",confusion_matrix(Y_test, class_predict))"
   ]
  },
  {
   "cell_type": "markdown",
   "metadata": {},
   "source": [
    "### 2. Classify Rings (binary)\n",
    "Set rings as the positive class and the rest as the negative class."
   ]
  },
  {
   "cell_type": "code",
   "execution_count": 18,
   "metadata": {
    "scrolled": true
   },
   "outputs": [
    {
     "name": "stdout",
     "output_type": "stream",
     "text": [
      "0    352\n",
      "1    120\n",
      "Name: Labels, dtype: int64\n"
     ]
    }
   ],
   "source": [
    "data_all = data_df_4.append(data_df_1,ignore_index=True).append(data_df_2,ignore_index=True).append(data_df_3,ignore_index=True)\n",
    "\n",
    "labels = [1]*len(Category_images['Rings'])+[0]*(len(Category_images['Necklaces'])+len(Category_images['Earrings'])+len(Category_images['Bracelets']))\n",
    "\n",
    "df_labels = pd.DataFrame({'Labels':labels})\n",
    "print(df_labels['Labels'].value_counts())"
   ]
  },
  {
   "cell_type": "code",
   "execution_count": 19,
   "metadata": {},
   "outputs": [
    {
     "name": "stdout",
     "output_type": "stream",
     "text": [
      "(354, 4096) (118, 4096)\n",
      "0.9661016949152542\n",
      "             precision    recall  f1-score   support\n",
      "\n",
      "          0       0.99      0.97      0.98        87\n",
      "          1       0.91      0.97      0.94        31\n",
      "\n",
      "avg / total       0.97      0.97      0.97       118\n",
      "\n",
      "Confusion matrix: \n",
      " [[84  3]\n",
      " [ 1 30]]\n"
     ]
    }
   ],
   "source": [
    "Y = np.ravel(df_labels.Labels)# we need 1D array for the target\n",
    "X = data_all\n",
    "#train and test split: 3/5 as the training set and the rest as the testing set\n",
    "X_train,X_test,Y_train,Y_test=train_test_split(X,Y,test_size=0.25,\n",
    "                                              random_state=3)\n",
    "print(X_train.shape,X_test.shape)\n",
    "\n",
    "log_model2 = LogisticRegression()\n",
    "log_model2.fit(X_train,Y_train)\n",
    "\n",
    "class_predict=log_model2.predict(X_test)\n",
    "print(metrics.accuracy_score(Y_test,class_predict))\n",
    "print(classification_report(Y_test,class_predict))\n",
    "print(\"Confusion matrix: \\n\",confusion_matrix(Y_test, class_predict))"
   ]
  },
  {
   "cell_type": "markdown",
   "metadata": {},
   "source": [
    "### 3. Classify Earrings (binary)\n",
    "Set earrings as the positive class and the rest as the negative class."
   ]
  },
  {
   "cell_type": "code",
   "execution_count": 20,
   "metadata": {},
   "outputs": [
    {
     "name": "stdout",
     "output_type": "stream",
     "text": [
      "0    399\n",
      "1     73\n",
      "Name: Labels, dtype: int64\n"
     ]
    }
   ],
   "source": [
    "data_all = data_df_2.append(data_df_1,ignore_index=True).append(data_df_4,ignore_index=True).append(data_df_3,ignore_index=True)\n",
    "\n",
    "labels = [1]*len(Category_images['Earrings'])+[0]*(len(Category_images['Necklaces'])+len(Category_images['Rings'])+len(Category_images['Bracelets']))\n",
    "\n",
    "df_labels = pd.DataFrame({'Labels':labels})\n",
    "print(df_labels['Labels'].value_counts())"
   ]
  },
  {
   "cell_type": "code",
   "execution_count": 21,
   "metadata": {
    "scrolled": true
   },
   "outputs": [
    {
     "name": "stdout",
     "output_type": "stream",
     "text": [
      "(354, 4096) (118, 4096)\n",
      "0.9830508474576272\n",
      "             precision    recall  f1-score   support\n",
      "\n",
      "          0       0.99      0.99      0.99       101\n",
      "          1       0.94      0.94      0.94        17\n",
      "\n",
      "avg / total       0.98      0.98      0.98       118\n",
      "\n",
      "Confusion matrix: \n",
      " [[100   1]\n",
      " [  1  16]]\n"
     ]
    }
   ],
   "source": [
    "Y = np.ravel(df_labels.Labels)# we need 1D array for the target\n",
    "X = data_all\n",
    "\n",
    "#train and test split: 3/5 as the training set and the rest as the testing set\n",
    "X_train,X_test,Y_train,Y_test=train_test_split(X,Y,test_size=0.25,\n",
    "                                              random_state=3)\n",
    "print(X_train.shape,X_test.shape)\n",
    "\n",
    "log_model2 = LogisticRegression()\n",
    "log_model2.fit(X_train,Y_train)\n",
    "\n",
    "class_predict=log_model2.predict(X_test)\n",
    "print(metrics.accuracy_score(Y_test,class_predict))\n",
    "print(classification_report(Y_test,class_predict))\n",
    "print(\"Confusion matrix: \\n\",confusion_matrix(Y_test, class_predict))"
   ]
  },
  {
   "cell_type": "markdown",
   "metadata": {},
   "source": [
    "### 4. Classify Bracelets (binary)\n",
    "Set bracelets as the positive class and the rest as the negative class."
   ]
  },
  {
   "cell_type": "code",
   "execution_count": 22,
   "metadata": {},
   "outputs": [
    {
     "name": "stdout",
     "output_type": "stream",
     "text": [
      "0    332\n",
      "1    140\n",
      "Name: Labels, dtype: int64\n"
     ]
    }
   ],
   "source": [
    "data_all = data_df_1.append(data_df_2,ignore_index=True).append(data_df_3,ignore_index=True).append(data_df_4,ignore_index=True)\n",
    "\n",
    "labels = [1]*len(Category_images['Bracelets'])+[0]*(len(Category_images['Necklaces'])+len(Category_images['Rings'])+len(Category_images['Earrings']))\n",
    "\n",
    "df_labels = pd.DataFrame({'Labels':labels})\n",
    "print(df_labels['Labels'].value_counts())"
   ]
  },
  {
   "cell_type": "code",
   "execution_count": 23,
   "metadata": {},
   "outputs": [
    {
     "name": "stdout",
     "output_type": "stream",
     "text": [
      "(354, 4096) (118, 4096)\n",
      "0.9491525423728814\n",
      "             precision    recall  f1-score   support\n",
      "\n",
      "          0       0.93      1.00      0.96        77\n",
      "          1       1.00      0.85      0.92        41\n",
      "\n",
      "avg / total       0.95      0.95      0.95       118\n",
      "\n",
      "Confusion matrix: \n",
      " [[77  0]\n",
      " [ 6 35]]\n"
     ]
    }
   ],
   "source": [
    "Y = np.ravel(df_labels.Labels)# we need 1D array for the target\n",
    "X = data_all\n",
    "\n",
    "#train and test split: 3/5 as the training set and the rest as the testing set\n",
    "X_train,X_test,Y_train,Y_test=train_test_split(X,Y,test_size=0.25,\n",
    "                                              random_state=3)\n",
    "print(X_train.shape,X_test.shape)\n",
    "\n",
    "log_model2 = LogisticRegression() #default is l2 regularization\n",
    "log_model2.fit(X_train,Y_train)\n",
    "\n",
    "class_predict=log_model2.predict(X_test)\n",
    "\n",
    "print(metrics.accuracy_score(Y_test,class_predict))\n",
    "print(classification_report(Y_test,class_predict))\n",
    "print(\"Confusion matrix: \\n\",confusion_matrix(Y_test, class_predict))"
   ]
  },
  {
   "cell_type": "markdown",
   "metadata": {},
   "source": [
    "### <font color=\"red\">5. Multinomial logistic regression classifier (4 classes: bracelets, earrings, necklaces, rings)<font>\n",
    "Set bracelets as class 1, earrings as class 2, necklaces as class 3 and rings as class 4."
   ]
  },
  {
   "cell_type": "code",
   "execution_count": 25,
   "metadata": {},
   "outputs": [
    {
     "name": "stdout",
     "output_type": "stream",
     "text": [
      "1    140\n",
      "3    139\n",
      "4    120\n",
      "2     73\n",
      "Name: Labels, dtype: int64\n"
     ]
    }
   ],
   "source": [
    "data_all = data_df_1.append(data_df_2,ignore_index=True).append(data_df_3,ignore_index=True).append(data_df_4,ignore_index=True)\n",
    "\n",
    "labels = [1]*len(Category_images['Bracelets'])+[2]*len(Category_images['Earrings'])+[3]*len(Category_images['Necklaces'])+[4]*len(Category_images['Rings'])\n",
    "\n",
    "df_labels = pd.DataFrame({'Labels':labels})\n",
    "print(df_labels['Labels'].value_counts())"
   ]
  },
  {
   "cell_type": "code",
   "execution_count": 26,
   "metadata": {},
   "outputs": [
    {
     "name": "stdout",
     "output_type": "stream",
     "text": [
      "(354, 4096) (118, 4096)\n",
      "l2 regularization =====> \n",
      "0.9830508474576272\n",
      "             precision    recall  f1-score   support\n",
      "\n",
      "          1       1.00      0.98      0.99        41\n",
      "          2       0.95      0.95      0.95        21\n",
      "          3       0.97      1.00      0.98        28\n",
      "          4       1.00      1.00      1.00        28\n",
      "\n",
      "avg / total       0.98      0.98      0.98       118\n",
      "\n",
      "Confusion matrix: \n",
      " [[40  1  0  0]\n",
      " [ 0 20  1  0]\n",
      " [ 0  0 28  0]\n",
      " [ 0  0  0 28]]\n"
     ]
    }
   ],
   "source": [
    "Y = np.ravel(df_labels.Labels)# we need 1D array for the target\n",
    "X = data_all\n",
    "\n",
    "#train and test split: 3/5 as the training set and the rest as the testing set\n",
    "X_train,X_test,Y_train,Y_test=train_test_split(X,Y,test_size=0.25,\n",
    "                                              random_state=3)\n",
    "print(X_train.shape,X_test.shape)\n",
    "\n",
    "log_model2 = LogisticRegression(multi_class='multinomial',solver='newton-cg')\n",
    "log_model2.fit(X_train,Y_train)\n",
    "\n",
    "class_predict=log_model2.predict(X_test)\n",
    "\n",
    "print(\"l2 regularization =====> \")\n",
    "print(metrics.accuracy_score(Y_test,class_predict))\n",
    "print(classification_report(Y_test,class_predict))\n",
    "print(\"Confusion matrix: \\n\",confusion_matrix(Y_test, class_predict))"
   ]
  },
  {
   "cell_type": "markdown",
   "metadata": {},
   "source": [
    "### <font color=\"red\">Support Vector Machine classifier (4 classes: bracelets, earrings, necklaces, rings)<font>\n",
    "Set bracelets as class 1, earrings as class 2, necklaces as class 3 and rings as class 4. I tried two different regularization penalties (l1 and l2) to avoid overfitting problem. "
   ]
  },
  {
   "cell_type": "code",
   "execution_count": 27,
   "metadata": {},
   "outputs": [
    {
     "name": "stderr",
     "output_type": "stream",
     "text": [
      "/usr/local/lib/python3.5/dist-packages/sklearn/grid_search.py:42: DeprecationWarning: This module was deprecated in version 0.18 in favor of the model_selection module into which all the refactored classes and functions are moved. This module will be removed in 0.20.\n",
      "  DeprecationWarning)\n"
     ]
    }
   ],
   "source": [
    "import random\n",
    "from sklearn import cross_validation, svm, datasets, grid_search\n",
    "from sklearn import metrics\n",
    "import time, sys\n",
    "import scipy.io\n",
    "from scipy.stats import mode\n",
    "from sklearn.neighbors import KDTree\n",
    "from sklearn.externals.joblib import Memory\n",
    "from sklearn.svm import LinearSVC"
   ]
  },
  {
   "cell_type": "code",
   "execution_count": 28,
   "metadata": {},
   "outputs": [
    {
     "name": "stdout",
     "output_type": "stream",
     "text": [
      "l2 regularization penalty ======> \n",
      "\n",
      "Accuracy:  0.9830508474576272\n",
      "             precision    recall  f1-score   support\n",
      "\n",
      "          1       1.00      0.98      0.99        41\n",
      "          2       0.95      0.95      0.95        21\n",
      "          3       0.97      1.00      0.98        28\n",
      "          4       1.00      1.00      1.00        28\n",
      "\n",
      "avg / total       0.98      0.98      0.98       118\n",
      "\n",
      "Confusion matrix: \n",
      " [[40  1  0  0]\n",
      " [ 0 20  1  0]\n",
      " [ 0  0 28  0]\n",
      " [ 0  0  0 28]]\n",
      "\n",
      " l1 regularization penalty ======> \n",
      "\n",
      "Accuracy:  0.9661016949152542\n",
      "             precision    recall  f1-score   support\n",
      "\n",
      "          1       1.00      0.95      0.97        41\n",
      "          2       0.95      0.90      0.93        21\n",
      "          3       0.97      1.00      0.98        28\n",
      "          4       0.93      1.00      0.97        28\n",
      "\n",
      "avg / total       0.97      0.97      0.97       118\n",
      "\n",
      "Confusion matrix: \n",
      " [[39  1  0  1]\n",
      " [ 0 19  1  1]\n",
      " [ 0  0 28  0]\n",
      " [ 0  0  0 28]]\n"
     ]
    }
   ],
   "source": [
    "#default is the l2 penalty. \n",
    "linearsvc = LinearSVC(random_state=0) \n",
    "linearsvc.fit(X_train, Y_train)\n",
    "predict_linearsvc = linearsvc.predict(X_test)\n",
    "\n",
    "print(\"l2 regularization penalty ======> \\n\")\n",
    "print(\"Accuracy: \",metrics.accuracy_score(Y_test,predict_linearsvc))\n",
    "print(classification_report(Y_test,predict_linearsvc))\n",
    "print(\"Confusion matrix: \\n\",confusion_matrix(Y_test, predict_linearsvc))\n",
    "\n",
    "#use l1 regularization penalty. \n",
    "linearsvc_1 = LinearSVC(penalty='l1', loss='squared_hinge', dual=False,\n",
    "                       tol=1e-3)\n",
    "linearsvc_1.fit(X_train, Y_train)\n",
    "predict_linearsvc_1 = linearsvc_1.predict(X_test)\n",
    "\n",
    "print(\"\\n l1 regularization penalty ======> \\n\")\n",
    "print(\"Accuracy: \",metrics.accuracy_score(Y_test,predict_linearsvc_1))\n",
    "print(classification_report(Y_test,predict_linearsvc_1))\n",
    "print(\"Confusion matrix: \\n\",confusion_matrix(Y_test, predict_linearsvc_1))"
   ]
  },
  {
   "cell_type": "code",
   "execution_count": null,
   "metadata": {},
   "outputs": [],
   "source": []
  },
  {
   "cell_type": "code",
   "execution_count": null,
   "metadata": {},
   "outputs": [],
   "source": []
  },
  {
   "cell_type": "code",
   "execution_count": null,
   "metadata": {},
   "outputs": [],
   "source": []
  }
 ],
 "metadata": {
  "kernelspec": {
   "display_name": "Python 3",
   "language": "python",
   "name": "python3"
  },
  "language_info": {
   "codemirror_mode": {
    "name": "ipython",
    "version": 3
   },
   "file_extension": ".py",
   "mimetype": "text/x-python",
   "name": "python",
   "nbconvert_exporter": "python",
   "pygments_lexer": "ipython3",
   "version": "3.5.2"
  }
 },
 "nbformat": 4,
 "nbformat_minor": 2
}
