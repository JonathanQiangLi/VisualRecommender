{
 "cells": [
  {
   "cell_type": "code",
   "execution_count": 522,
   "metadata": {
    "collapsed": true
   },
   "outputs": [],
   "source": [
    "import numpy as np\n",
    "import pandas as pd\n",
    "from pandas import Series,DataFrame\n",
    "import math"
   ]
  },
  {
   "cell_type": "code",
   "execution_count": 523,
   "metadata": {},
   "outputs": [
    {
     "data": {
      "text/html": [
       "<div>\n",
       "<style>\n",
       "    .dataframe thead tr:only-child th {\n",
       "        text-align: right;\n",
       "    }\n",
       "\n",
       "    .dataframe thead th {\n",
       "        text-align: left;\n",
       "    }\n",
       "\n",
       "    .dataframe tbody tr th {\n",
       "        vertical-align: top;\n",
       "    }\n",
       "</style>\n",
       "<table border=\"1\" class=\"dataframe\">\n",
       "  <thead>\n",
       "    <tr style=\"text-align: right;\">\n",
       "      <th></th>\n",
       "      <th>Session</th>\n",
       "      <th>Product_id</th>\n",
       "      <th>Num_bought</th>\n",
       "    </tr>\n",
       "  </thead>\n",
       "  <tbody>\n",
       "    <tr>\n",
       "      <th>count</th>\n",
       "      <td>48169.000000</td>\n",
       "      <td>48169.000000</td>\n",
       "      <td>48169.000000</td>\n",
       "    </tr>\n",
       "    <tr>\n",
       "      <th>mean</th>\n",
       "      <td>503.207914</td>\n",
       "      <td>501.644855</td>\n",
       "      <td>0.094937</td>\n",
       "    </tr>\n",
       "    <tr>\n",
       "      <th>std</th>\n",
       "      <td>289.707249</td>\n",
       "      <td>287.946803</td>\n",
       "      <td>0.303363</td>\n",
       "    </tr>\n",
       "    <tr>\n",
       "      <th>min</th>\n",
       "      <td>0.000000</td>\n",
       "      <td>0.000000</td>\n",
       "      <td>0.000000</td>\n",
       "    </tr>\n",
       "    <tr>\n",
       "      <th>25%</th>\n",
       "      <td>256.000000</td>\n",
       "      <td>253.000000</td>\n",
       "      <td>0.000000</td>\n",
       "    </tr>\n",
       "    <tr>\n",
       "      <th>50%</th>\n",
       "      <td>502.000000</td>\n",
       "      <td>501.000000</td>\n",
       "      <td>0.000000</td>\n",
       "    </tr>\n",
       "    <tr>\n",
       "      <th>75%</th>\n",
       "      <td>758.000000</td>\n",
       "      <td>751.000000</td>\n",
       "      <td>0.000000</td>\n",
       "    </tr>\n",
       "    <tr>\n",
       "      <th>max</th>\n",
       "      <td>999.000000</td>\n",
       "      <td>999.000000</td>\n",
       "      <td>4.000000</td>\n",
       "    </tr>\n",
       "  </tbody>\n",
       "</table>\n",
       "</div>"
      ],
      "text/plain": [
       "            Session    Product_id    Num_bought\n",
       "count  48169.000000  48169.000000  48169.000000\n",
       "mean     503.207914    501.644855      0.094937\n",
       "std      289.707249    287.946803      0.303363\n",
       "min        0.000000      0.000000      0.000000\n",
       "25%      256.000000    253.000000      0.000000\n",
       "50%      502.000000    501.000000      0.000000\n",
       "75%      758.000000    751.000000      0.000000\n",
       "max      999.000000    999.000000      4.000000"
      ]
     },
     "execution_count": 523,
     "metadata": {},
     "output_type": "execute_result"
    }
   ],
   "source": [
    "data = pd.read_csv(\"data_session_1000.csv\")\n",
    "data.describe()"
   ]
  },
  {
   "cell_type": "code",
   "execution_count": 524,
   "metadata": {},
   "outputs": [
    {
     "data": {
      "text/html": [
       "<div>\n",
       "<style>\n",
       "    .dataframe thead tr:only-child th {\n",
       "        text-align: right;\n",
       "    }\n",
       "\n",
       "    .dataframe thead th {\n",
       "        text-align: left;\n",
       "    }\n",
       "\n",
       "    .dataframe tbody tr th {\n",
       "        vertical-align: top;\n",
       "    }\n",
       "</style>\n",
       "<table border=\"1\" class=\"dataframe\">\n",
       "  <thead>\n",
       "    <tr style=\"text-align: right;\">\n",
       "      <th></th>\n",
       "      <th>Session</th>\n",
       "      <th>Product_id</th>\n",
       "      <th>Num_bought</th>\n",
       "    </tr>\n",
       "  </thead>\n",
       "  <tbody>\n",
       "    <tr>\n",
       "      <th>count</th>\n",
       "      <td>4433.00000</td>\n",
       "      <td>4433.000000</td>\n",
       "      <td>4433.000000</td>\n",
       "    </tr>\n",
       "    <tr>\n",
       "      <th>mean</th>\n",
       "      <td>503.48139</td>\n",
       "      <td>334.419355</td>\n",
       "      <td>1.031581</td>\n",
       "    </tr>\n",
       "    <tr>\n",
       "      <th>std</th>\n",
       "      <td>288.44904</td>\n",
       "      <td>201.927328</td>\n",
       "      <td>0.183711</td>\n",
       "    </tr>\n",
       "    <tr>\n",
       "      <th>min</th>\n",
       "      <td>0.00000</td>\n",
       "      <td>2.000000</td>\n",
       "      <td>1.000000</td>\n",
       "    </tr>\n",
       "    <tr>\n",
       "      <th>25%</th>\n",
       "      <td>260.00000</td>\n",
       "      <td>147.000000</td>\n",
       "      <td>1.000000</td>\n",
       "    </tr>\n",
       "    <tr>\n",
       "      <th>50%</th>\n",
       "      <td>509.00000</td>\n",
       "      <td>330.000000</td>\n",
       "      <td>1.000000</td>\n",
       "    </tr>\n",
       "    <tr>\n",
       "      <th>75%</th>\n",
       "      <td>756.00000</td>\n",
       "      <td>521.000000</td>\n",
       "      <td>1.000000</td>\n",
       "    </tr>\n",
       "    <tr>\n",
       "      <th>max</th>\n",
       "      <td>999.00000</td>\n",
       "      <td>662.000000</td>\n",
       "      <td>4.000000</td>\n",
       "    </tr>\n",
       "  </tbody>\n",
       "</table>\n",
       "</div>"
      ],
      "text/plain": [
       "          Session   Product_id   Num_bought\n",
       "count  4433.00000  4433.000000  4433.000000\n",
       "mean    503.48139   334.419355     1.031581\n",
       "std     288.44904   201.927328     0.183711\n",
       "min       0.00000     2.000000     1.000000\n",
       "25%     260.00000   147.000000     1.000000\n",
       "50%     509.00000   330.000000     1.000000\n",
       "75%     756.00000   521.000000     1.000000\n",
       "max     999.00000   662.000000     4.000000"
      ]
     },
     "execution_count": 524,
     "metadata": {},
     "output_type": "execute_result"
    }
   ],
   "source": [
    "# Only use the bought products \n",
    "data_bought = data[data['Num_bought']>0]\n",
    "data_bought.describe()"
   ]
  },
  {
   "cell_type": "code",
   "execution_count": 525,
   "metadata": {
    "collapsed": true
   },
   "outputs": [],
   "source": [
    "data_rp = data_bought.pivot(index='Session', columns='Product_id', values='Num_bought')"
   ]
  },
  {
   "cell_type": "markdown",
   "metadata": {},
   "source": [
    "### 1. train, test split \n"
   ]
  },
  {
   "cell_type": "code",
   "execution_count": 526,
   "metadata": {
    "collapsed": true
   },
   "outputs": [],
   "source": [
    "#Using the first 500 session as input \n",
    "#and the last 500 session ,product_id <=100 as the test\n",
    "data_rp = data_rp.fillna(0)\n",
    "data_rp = data_rp.astype('int')\n",
    "\n",
    "#using the first 100 session and product_id <=100 as the test set\n",
    "final_check = data_rp.loc[:100,:100].copy()\n",
    "#final_check"
   ]
  },
  {
   "cell_type": "code",
   "execution_count": 527,
   "metadata": {
    "collapsed": true
   },
   "outputs": [],
   "source": [
    "# change the test data as the missing values; assign = 0\n",
    "data_rp.loc[:100,:100] = 0"
   ]
  },
  {
   "cell_type": "code",
   "execution_count": null,
   "metadata": {
    "collapsed": true
   },
   "outputs": [],
   "source": []
  },
  {
   "cell_type": "markdown",
   "metadata": {},
   "source": [
    "### 2. Train model with weighted least square "
   ]
  },
  {
   "cell_type": "code",
   "execution_count": 528,
   "metadata": {},
   "outputs": [
    {
     "data": {
      "text/plain": [
       "array([[0, 0, 0, ..., 0, 0, 0],\n",
       "       [0, 0, 0, ..., 0, 0, 0],\n",
       "       [0, 0, 0, ..., 0, 0, 0],\n",
       "       ..., \n",
       "       [0, 0, 0, ..., 0, 0, 0],\n",
       "       [0, 0, 0, ..., 0, 0, 0],\n",
       "       [0, 0, 0, ..., 0, 0, 0]])"
      ]
     },
     "execution_count": 528,
     "metadata": {},
     "output_type": "execute_result"
    }
   ],
   "source": [
    "Q = data_rp.values\n",
    "Q"
   ]
  },
  {
   "cell_type": "code",
   "execution_count": 529,
   "metadata": {},
   "outputs": [
    {
     "data": {
      "text/plain": [
       "(498, 181)"
      ]
     },
     "execution_count": 529,
     "metadata": {},
     "output_type": "execute_result"
    }
   ],
   "source": [
    "Q.shape"
   ]
  },
  {
   "cell_type": "code",
   "execution_count": 530,
   "metadata": {},
   "outputs": [
    {
     "data": {
      "text/plain": [
       "array([[ 0.,  0.,  0., ...,  0.,  0.,  0.],\n",
       "       [ 0.,  0.,  0., ...,  0.,  0.,  0.],\n",
       "       [ 0.,  0.,  0., ...,  0.,  0.,  0.],\n",
       "       ..., \n",
       "       [ 0.,  0.,  0., ...,  0.,  0.,  0.],\n",
       "       [ 0.,  0.,  0., ...,  0.,  0.,  0.],\n",
       "       [ 0.,  0.,  0., ...,  0.,  0.,  0.]])"
      ]
     },
     "execution_count": 530,
     "metadata": {},
     "output_type": "execute_result"
    }
   ],
   "source": [
    "import numpy as np\n",
    "\n",
    "W = Q>=1\n",
    "W[W == True] = 1\n",
    "W[W == False] = 0\n",
    "# To be consistent with our Q matrix\n",
    "W = W.astype(np.float64, copy=False)\n",
    "W"
   ]
  },
  {
   "cell_type": "code",
   "execution_count": 531,
   "metadata": {
    "collapsed": true
   },
   "outputs": [],
   "source": [
    "# parameters: \n",
    "lambda_ = 0.01\n",
    "n_factors = 10\n",
    "m, n = Q.shape\n",
    "n_iterations = 20\n",
    "\n",
    "X = 5 * np.random.rand(m, n_factors) \n",
    "Y = 5 * np.random.rand(n_factors, n)"
   ]
  },
  {
   "cell_type": "code",
   "execution_count": 532,
   "metadata": {
    "collapsed": true
   },
   "outputs": [],
   "source": [
    "#using W matix: \n",
    "#in order of get rid of the missing values from the least squa\n",
    "def get_error(Q, X, Y, W):\n",
    "    return np.sum((W * (Q - np.dot(X, Y)))**2)"
   ]
  },
  {
   "cell_type": "code",
   "execution_count": 533,
   "metadata": {},
   "outputs": [
    {
     "name": "stdout",
     "output_type": "stream",
     "text": [
      "Error of brought products: 1.0653440668149814\n"
     ]
    }
   ],
   "source": [
    "weighted_errors = []\n",
    "for ii in range(n_iterations):\n",
    "    for u, Wu in enumerate(W):\n",
    "        X[u] = np.linalg.solve(np.dot(Y, np.dot(np.diag(Wu), Y.T)) + lambda_ * np.eye(n_factors),\n",
    "                               np.dot(Y, np.dot(np.diag(Wu), Q[u].T))).T\n",
    "    for i, Wi in enumerate(W.T):\n",
    "        Y[:,i] = np.linalg.solve(np.dot(X.T, np.dot(np.diag(Wi), X)) + lambda_ * np.eye(n_factors),\n",
    "                                 np.dot(X.T, np.dot(np.diag(Wi), Q[:, i])))\n",
    "    weighted_errors.append(get_error(Q, X, Y, W))\n",
    "    #print('{}th iteration is completed'.format(ii))\n",
    "weighted_Q_hat = np.dot(X,Y)\n",
    "print('Error of brought products: {}'.format(get_error(Q, X, Y, W)))"
   ]
  },
  {
   "cell_type": "code",
   "execution_count": 534,
   "metadata": {},
   "outputs": [
    {
     "data": {
      "image/png": "[encoded data removed]",
      "text/plain": [
       "<matplotlib.figure.Figure at 0x125e321d0>"
      ]
     },
     "metadata": {},
     "output_type": "display_data"
    }
   ],
   "source": [
    "import matplotlib.pyplot as plt\n",
    "%matplotlib inline \n",
    "\n",
    "plt.plot(weighted_errors);\n",
    "plt.xlabel('Iteration Number');\n",
    "plt.ylabel('Mean Squared Error');"
   ]
  },
  {
   "cell_type": "code",
   "execution_count": 535,
   "metadata": {},
   "outputs": [
    {
     "data": {
      "text/plain": [
       "array([[ 1.02357674,  0.7829922 ,  0.95449884, ...,  1.03327809,\n",
       "         1.09989636,  0.86865562],\n",
       "       [ 0.98694234,  0.88729734,  0.91210205, ...,  1.00861774,\n",
       "         1.00287855,  1.02044438],\n",
       "       [ 1.0285836 ,  1.06896988,  0.71115235, ...,  0.94713178,\n",
       "         0.97603827,  1.05434601],\n",
       "       ..., \n",
       "       [ 1.01495853,  0.92669686,  0.86958691, ...,  1.08663502,\n",
       "         1.01993028,  1.04549174],\n",
       "       [ 1.12477562,  1.0984696 ,  0.93906184, ...,  1.33773993,\n",
       "         0.93302602,  1.17933085],\n",
       "       [ 0.95995453,  0.85301405,  0.88010362, ...,  1.00843212,\n",
       "         0.98560645,  0.98976798]])"
      ]
     },
     "execution_count": 535,
     "metadata": {},
     "output_type": "execute_result"
    }
   ],
   "source": [
    "weighted_Q_hat"
   ]
  },
  {
   "cell_type": "code",
   "execution_count": 536,
   "metadata": {},
   "outputs": [
    {
     "data": {
      "text/plain": [
       "(498, 181)"
      ]
     },
     "execution_count": 536,
     "metadata": {},
     "output_type": "execute_result"
    }
   ],
   "source": [
    "predictions = pd.DataFrame(weighted_Q_hat)\n",
    "predictions.shape"
   ]
  },
  {
   "cell_type": "code",
   "execution_count": 537,
   "metadata": {},
   "outputs": [
    {
     "data": {
      "text/plain": [
       "(498, 181)"
      ]
     },
     "execution_count": 537,
     "metadata": {},
     "output_type": "execute_result"
    }
   ],
   "source": [
    "true_values = pd.DataFrame(Q)\n",
    "true_values.shape"
   ]
  },
  {
   "cell_type": "code",
   "execution_count": 538,
   "metadata": {},
   "outputs": [
    {
     "name": "stdout",
     "output_type": "stream",
     "text": [
      "55 28\n"
     ]
    }
   ],
   "source": [
    "test_size_r,test_size_c = final_check.shape\n",
    "print(test_size_r,test_size_c)"
   ]
  },
  {
   "cell_type": "markdown",
   "metadata": {},
   "source": [
    "### 3. evaluate train data using MRR"
   ]
  },
  {
   "cell_type": "code",
   "execution_count": 539,
   "metadata": {
    "collapsed": true
   },
   "outputs": [],
   "source": [
    "\"\"\"\n",
    "evaluate the first part of the train data using MRR\n",
    "\"\"\"\n",
    "train_c_name1 = [\"p_\"+str(i) for i in range(test_size_c,n)]\n",
    "train_predictions1 = predictions.loc[0:test_size_r-1,test_size_c:]\n",
    "train_predictions1.columns = train_c_name1\n",
    "#train_predictions1\n",
    "\n",
    "train_true1 = true_values.loc[0:test_size_r-1,test_size_c:]\n",
    "train_true1.columns = train_c_name1\n",
    "#train_true1"
   ]
  },
  {
   "cell_type": "code",
   "execution_count": 540,
   "metadata": {},
   "outputs": [
    {
     "data": {
      "text/plain": [
       "0.056134513498962778"
      ]
     },
     "execution_count": 540,
     "metadata": {},
     "output_type": "execute_result"
    }
   ],
   "source": [
    "mrr_list1 = []\n",
    "for i in range(test_size_r):\n",
    "    session_i = train_true1.loc[i]\n",
    "    session_i_new = session_i[session_i>0]\n",
    "    session_i_index = list(session_i_new.index)\n",
    "    \n",
    "    test_i = train_predictions1.loc[i]\n",
    "    test_i_rank = test_i.sort_values(ascending = False)\n",
    "    test_i_index = list(test_i_rank.index)\n",
    "    \n",
    "    if len(session_i_index) != 0:\n",
    "        list_rr = []\n",
    "        for product_real in session_i_index:\n",
    "            index = test_i_index.index(product_real)\n",
    "            rank = index+1\n",
    "            RR = 1/rank\n",
    "            list_rr.append(RR)\n",
    "        mrr = np.mean(list_rr)\n",
    "        mrr_list1.append(mrr)\n",
    "#print(mrr_list1)\n",
    "MRR_train_1= np.mean(mrr_list1)\n",
    "MRR_train_1"
   ]
  },
  {
   "cell_type": "code",
   "execution_count": null,
   "metadata": {
    "collapsed": true
   },
   "outputs": [],
   "source": []
  },
  {
   "cell_type": "code",
   "execution_count": 541,
   "metadata": {
    "collapsed": true
   },
   "outputs": [],
   "source": [
    "\"\"\"\n",
    "evaluation the second part of the training data using MRR\n",
    "\"\"\"\n",
    "train_c_name2 = [\"p_\"+str(i) for i in range(n)]\n",
    "train_predictions2 = predictions.loc[test_size_r:,:]\n",
    "train_predictions2.columns = train_c_name2\n",
    "#train_predictions2\n",
    "\n",
    "train_true2 = true_values.loc[test_size_r:,:]\n",
    "train_true2.columns = train_c_name2\n",
    "#train_true2"
   ]
  },
  {
   "cell_type": "code",
   "execution_count": 542,
   "metadata": {},
   "outputs": [
    {
     "data": {
      "text/plain": [
       "0.037236035735003413"
      ]
     },
     "execution_count": 542,
     "metadata": {},
     "output_type": "execute_result"
    }
   ],
   "source": [
    "mrr_list2 = []\n",
    "for i in range(test_size_r,m):\n",
    "    session_i = train_true2.loc[i]\n",
    "    session_i_new = session_i[session_i>0]\n",
    "    session_i_index = list(session_i_new.index)\n",
    "    \n",
    "    test_i = train_predictions2.loc[i]\n",
    "    test_i_rank = test_i.sort_values(ascending = False)\n",
    "    test_i_index = list(test_i_rank.index)\n",
    "    \n",
    "    if len(session_i_index) != 0:\n",
    "        list_rr = []\n",
    "        for product_real in session_i_index:\n",
    "            index = test_i_index.index(product_real)\n",
    "            rank = index+1\n",
    "            RR = 1/rank\n",
    "            list_rr.append(RR)\n",
    "        mrr = np.mean(list_rr)\n",
    "        mrr_list2.append(mrr)\n",
    "#print(mrr_list)\n",
    "MRR_train_2= np.mean(mrr_list2)\n",
    "MRR_train_2"
   ]
  },
  {
   "cell_type": "code",
   "execution_count": 543,
   "metadata": {},
   "outputs": [
    {
     "data": {
      "text/plain": [
       "0.039323217014155545"
      ]
     },
     "execution_count": 543,
     "metadata": {},
     "output_type": "execute_result"
    }
   ],
   "source": [
    "mrr_list_all = mrr_list1+mrr_list2\n",
    "MRR_train_total = np.mean(mrr_list_all)\n",
    "MRR_train_total"
   ]
  },
  {
   "cell_type": "code",
   "execution_count": 544,
   "metadata": {},
   "outputs": [
    {
     "data": {
      "text/plain": [
       "(array([ 326.,   73.,   31.,   19.,   14.,    4.,    5.,    4.,   10.,\n",
       "           2.,    2.,    0.,    5.,    0.,    1.,    0.,    1.,    0.,\n",
       "           0.,    0.,    0.,    0.,    0.,    0.,    0.,    0.,    0.,\n",
       "           0.,    0.,    0.,    0.,    0.,    0.,    0.,    0.,    0.,\n",
       "           0.,    0.,    0.,    0.,    0.,    0.,    0.,    0.,    0.,\n",
       "           0.,    0.,    0.,    0.,    1.]),\n",
       " array([ 0.00722257,  0.02707812,  0.04693367,  0.06678922,  0.08664476,\n",
       "         0.10650031,  0.12635586,  0.14621141,  0.16606696,  0.18592251,\n",
       "         0.20577806,  0.2256336 ,  0.24548915,  0.2653447 ,  0.28520025,\n",
       "         0.3050558 ,  0.32491135,  0.3447669 ,  0.36462244,  0.38447799,\n",
       "         0.40433354,  0.42418909,  0.44404464,  0.46390019,  0.48375574,\n",
       "         0.50361128,  0.52346683,  0.54332238,  0.56317793,  0.58303348,\n",
       "         0.60288903,  0.62274458,  0.64260013,  0.66245567,  0.68231122,\n",
       "         0.70216677,  0.72202232,  0.74187787,  0.76173342,  0.78158897,\n",
       "         0.80144451,  0.82130006,  0.84115561,  0.86101116,  0.88086671,\n",
       "         0.90072226,  0.92057781,  0.94043335,  0.9602889 ,  0.98014445,  1.        ]),\n",
       " <a list of 50 Patch objects>)"
      ]
     },
     "execution_count": 544,
     "metadata": {},
     "output_type": "execute_result"
    },
    {
     "data": {
      "image/png": "[encoded data removed]",
      "text/plain": [
       "<matplotlib.figure.Figure at 0x123770fd0>"
      ]
     },
     "metadata": {},
     "output_type": "display_data"
    }
   ],
   "source": [
    "plt.hist(mrr_list_all,bins=50)"
   ]
  },
  {
   "cell_type": "code",
   "execution_count": null,
   "metadata": {
    "collapsed": true
   },
   "outputs": [],
   "source": []
  },
  {
   "cell_type": "markdown",
   "metadata": {},
   "source": [
    "### 4. evaluate test data using MRR"
   ]
  },
  {
   "cell_type": "code",
   "execution_count": 545,
   "metadata": {
    "collapsed": true
   },
   "outputs": [],
   "source": [
    "test_prediction = predictions.loc[0:test_size_r-1,0:test_size_c-1]\n",
    "test_prediction.shape\n",
    "c_name = [\"p_\"+str(i) for i in range(28)]\n",
    "test_prediction.columns = c_name\n",
    "#test_prediction\n",
    "\n",
    "final_check_df = pd.DataFrame(final_check.values)\n",
    "final_check_df.columns = c_name\n",
    "#final_check_df"
   ]
  },
  {
   "cell_type": "code",
   "execution_count": 546,
   "metadata": {},
   "outputs": [
    {
     "name": "stdout",
     "output_type": "stream",
     "text": [
      "28\n",
      "0.0357142857143\n"
     ]
    }
   ],
   "source": [
    "\"\"\"\n",
    "check the mean reciprocal rank of the first test data \n",
    "\"\"\"\n",
    "session_i = final_check_df.loc[0]\n",
    "session_i_new = session_i[session_i>0]\n",
    "session_i_index = list(session_i_new.index)\n",
    "#print(session_i_index)\n",
    "\n",
    "test_i = test_prediction.loc[0]\n",
    "test_i_rank = test_i.sort_values(ascending = False)\n",
    "test_i_index = list(test_i_rank.index)\n",
    "#print(test_i_rank)\n",
    "\n",
    "list_rr = []\n",
    "for product_real in session_i_index:\n",
    "    index = test_i_index.index(product_real)\n",
    "    rank = index+1\n",
    "    RR = 1/rank\n",
    "    list_rr.append(RR)\n",
    "    print(rank)\n",
    "mrr = np.mean(list_rr)\n",
    "print(mrr)   "
   ]
  },
  {
   "cell_type": "code",
   "execution_count": 547,
   "metadata": {
    "collapsed": true
   },
   "outputs": [],
   "source": [
    "\"\"\"\n",
    "get the mrr for the whole test data\n",
    "\"\"\"\n",
    "mrr_list_test = []\n",
    "for i in range(test_size_r):\n",
    "    session_i = final_check_df.loc[i]\n",
    "    session_i_new = session_i[session_i>0]\n",
    "    session_i_index = list(session_i_new.index)\n",
    "    \n",
    "    test_i = test_prediction.loc[i]\n",
    "    test_i_rank = test_i.sort_values(ascending = False)\n",
    "    test_i_index = list(test_i_rank.index)\n",
    "    \n",
    "    if len(session_i_index) != 0:\n",
    "        list_rr = []\n",
    "        for product_real in session_i_index:\n",
    "            index = test_i_index.index(product_real)\n",
    "            rank = index+1\n",
    "            RR = 1/rank\n",
    "            list_rr.append(RR)\n",
    "        mrr = np.mean(list_rr)\n",
    "        mrr_list_test.append(mrr)\n",
    "#print(mrr_list_test)"
   ]
  },
  {
   "cell_type": "code",
   "execution_count": 548,
   "metadata": {},
   "outputs": [
    {
     "data": {
      "text/plain": [
       "0.13615196526265538"
      ]
     },
     "execution_count": 548,
     "metadata": {},
     "output_type": "execute_result"
    }
   ],
   "source": [
    "MRR = np.mean(mrr_list_test)\n",
    "MRR"
   ]
  },
  {
   "cell_type": "code",
   "execution_count": 549,
   "metadata": {},
   "outputs": [
    {
     "data": {
      "text/plain": [
       "(array([ 5.,  4.,  2.,  1.,  2.,  1.,  2.,  1.,  1.,  0.,  2.,  0.,  1.,\n",
       "         0.,  0.,  1.,  0.,  2.,  0.,  0.,  0.,  0.,  0.,  0.,  0.,  0.,\n",
       "         0.,  0.,  1.,  1.,  1.,  0.,  0.,  0.,  1.,  0.,  0.,  0.,  0.,\n",
       "         0.,  1.,  0.,  0.,  0.,  0.,  0.,  1.,  0.,  1.,  1.]),\n",
       " array([ 0.03571429,  0.04307407,  0.05043386,  0.05779365,  0.06515344,\n",
       "         0.07251323,  0.07987302,  0.0872328 ,  0.09459259,  0.10195238,\n",
       "         0.10931217,  0.11667196,  0.12403175,  0.13139153,  0.13875132,\n",
       "         0.14611111,  0.1534709 ,  0.16083069,  0.16819048,  0.17555026,\n",
       "         0.18291005,  0.19026984,  0.19762963,  0.20498942,  0.21234921,\n",
       "         0.21970899,  0.22706878,  0.23442857,  0.24178836,  0.24914815,\n",
       "         0.25650794,  0.26386772,  0.27122751,  0.2785873 ,  0.28594709,\n",
       "         0.29330688,  0.30066667,  0.30802646,  0.31538624,  0.32274603,\n",
       "         0.33010582,  0.33746561,  0.3448254 ,  0.35218519,  0.35954497,\n",
       "         0.36690476,  0.37426455,  0.38162434,  0.38898413,  0.39634392,\n",
       "         0.4037037 ]),\n",
       " <a list of 50 Patch objects>)"
      ]
     },
     "execution_count": 549,
     "metadata": {},
     "output_type": "execute_result"
    },
    {
     "data": {
      "image/png": "[encoded data removed]",
      "text/plain": [
       "<matplotlib.figure.Figure at 0x1256e3a90>"
      ]
     },
     "metadata": {},
     "output_type": "display_data"
    }
   ],
   "source": [
    "plt.hist(mrr_list_test,bins=50)"
   ]
  },
  {
   "cell_type": "code",
   "execution_count": null,
   "metadata": {
    "collapsed": true
   },
   "outputs": [],
   "source": []
  }
 ],
 "metadata": {
  "kernelspec": {
   "display_name": "Python 3",
   "language": "python",
   "name": "python3"
  },
  "language_info": {
   "codemirror_mode": {
    "name": "ipython",
    "version": 3
   },
   "file_extension": ".py",
   "mimetype": "text/x-python",
   "name": "python",
   "nbconvert_exporter": "python",
   "pygments_lexer": "ipython3",
   "version": "3.6.4"
  }
 },
 "nbformat": 4,
 "nbformat_minor": 2
}
